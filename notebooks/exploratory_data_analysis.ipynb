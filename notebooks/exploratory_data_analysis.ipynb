{
 "cells": [
  {
   "cell_type": "markdown",
   "metadata": {},
   "source": [
    "Carga de librerías"
   ]
  },
  {
   "cell_type": "code",
   "execution_count": 1,
   "metadata": {},
   "outputs": [],
   "source": [
    "# System\n",
    "import os\n",
    "import re\n",
    "import sys\n",
    "sys.path.append('../src')\n",
    "\n",
    "# Overall\n",
    "import pandas as pd\n",
    "import matplotlib.pyplot as plt\n",
    "\n",
    "# Partial\n",
    "from settings import ROOT\n",
    "from ipywidgets import widgets"
   ]
  },
  {
   "cell_type": "markdown",
   "metadata": {},
   "source": [
    "# Selección de fuente de datos"
   ]
  },
  {
   "cell_type": "code",
   "execution_count": 2,
   "metadata": {},
   "outputs": [
    {
     "data": {
      "application/vnd.jupyter.widget-view+json": {
       "model_id": "d439633fc33d47cbbe2a214b658f8227",
       "version_major": 2,
       "version_minor": 0
      },
      "text/plain": [
       "Dropdown(description='Files', options=('hist-maize-panel-rcp2p6.csv', 'hist-maize-panel-rcp8p5.csv'), value='h…"
      ]
     },
     "metadata": {},
     "output_type": "display_data"
    }
   ],
   "source": [
    "# Data directory and list of files\n",
    "DATA_DIR = os.path.join(ROOT, 'data', 'datos-produccion-maiz')\n",
    "LIST_OF_FILES = [file for file in os.listdir(DATA_DIR) if file.startswith('hist')]\n",
    "\n",
    "# Declare file selector instance\n",
    "file_selector = widgets.Dropdown(\n",
    "    options=LIST_OF_FILES\n",
    "    ,description='Files'\n",
    "    ,disabled=False)\n",
    "\n",
    "# Display file selector\n",
    "display(file_selector)"
   ]
  },
  {
   "cell_type": "code",
   "execution_count": 3,
   "metadata": {},
   "outputs": [
    {
     "name": "stdout",
     "output_type": "stream",
     "text": [
      "Model pointer: RCP8P5\n"
     ]
    }
   ],
   "source": [
    "# Store file_selector output in variable\n",
    "file_path = os.path.join(DATA_DIR, file_selector.value)\n",
    "\n",
    "# Extract AIRCCA base model\n",
    "get_aricca_model = re.compile(r'rcp[0-9]p[0-9]')\n",
    "model_pointer = get_aricca_model.search(file_path).group()\n",
    "\n",
    "print(f'Model pointer: {model_pointer.upper()}')"
   ]
  },
  {
   "cell_type": "code",
   "execution_count": 4,
   "metadata": {},
   "outputs": [
    {
     "name": "stdout",
     "output_type": "stream",
     "text": [
      "<class 'pandas.core.frame.DataFrame'>\n",
      "RangeIndex: 2826720 entries, 0 to 2826719\n",
      "Data columns (total 9 columns):\n",
      " #   Column         Dtype  \n",
      "---  ------         -----  \n",
      " 0   lon            float64\n",
      " 1   lat            float64\n",
      " 2   year           int64  \n",
      " 3   mean_precip    float64\n",
      " 4   mean_precip_2  float64\n",
      " 5   mean_temp      float64\n",
      " 6   mean_temp_2    float64\n",
      " 7   mean_yield     float64\n",
      " 8   id             int64  \n",
      "dtypes: float64(7), int64(2)\n",
      "memory usage: 194.1 MB\n"
     ]
    }
   ],
   "source": [
    "# Load data into dataframe object\n",
    "data = pd.read_csv(file_path)\n",
    "\n",
    "# Column name formatter\n",
    "data.columns = [\n",
    "    re.sub(\n",
    "        pattern=r'[-\\. ]'\n",
    "        ,repl='_'\n",
    "        ,string=colname.lower().strip())\n",
    "    for colname in data.columns]\n",
    "\n",
    "ordinary_predictors = [var for var in data.columns if var.startswith('mean')]\n",
    "\n",
    "data.info()"
   ]
  },
  {
   "cell_type": "markdown",
   "metadata": {},
   "source": [
    "# Visualización inicial"
   ]
  },
  {
   "cell_type": "code",
   "execution_count": 5,
   "metadata": {},
   "outputs": [],
   "source": [
    "def plot_yield(variable, year):\n",
    "    # Visualization data\n",
    "    _vis = (\n",
    "        data\n",
    "        .query(f\"year == {year}\"))\n",
    "\n",
    "    # Figure config\n",
    "    fig, ax = plt.subplots(figsize=(15,8))\n",
    "    \n",
    "    # Visualization elements\n",
    "    ax.scatter(\n",
    "        x=_vis.lon\n",
    "        ,y=_vis.lat\n",
    "        ,s=5\n",
    "        ,c=_vis[variable])\n",
    "    \n",
    "    # Annotations and styling\n",
    "    ax.set_title(\n",
    "        label=f'{model_pointer.upper()}, {year} - {variable.replace(\"_\", \" \").title()}'\n",
    "        ,fontsize=16\n",
    "        ,loc='left')\n",
    "\n",
    "    plt.show()"
   ]
  },
  {
   "cell_type": "code",
   "execution_count": 6,
   "metadata": {},
   "outputs": [
    {
     "data": {
      "application/vnd.jupyter.widget-view+json": {
       "model_id": "f038314c29c4440db7f1570f2f1877f8",
       "version_major": 2,
       "version_minor": 0
      },
      "text/plain": [
       "interactive(children=(Dropdown(description='Files', index=4, options=('mean_precip', 'mean_precip_2', 'mean_te…"
      ]
     },
     "metadata": {},
     "output_type": "display_data"
    },
    {
     "data": {
      "text/plain": [
       "<function __main__.plot_yield(variable, year)>"
      ]
     },
     "execution_count": 6,
     "metadata": {},
     "output_type": "execute_result"
    }
   ],
   "source": [
    "widgets.interact(\n",
    "    plot_yield\n",
    "    ,variable=widgets.Dropdown(\n",
    "        options=ordinary_predictors\n",
    "        ,value=ordinary_predictors[-1]\n",
    "        ,description='Files'\n",
    "        ,disabled=False)\n",
    "    ,year=widgets.IntSlider(\n",
    "        min=data.year.unique().min()\n",
    "        ,max=data.year.unique().max()\n",
    "        ,step=1))"
   ]
  },
  {
   "cell_type": "code",
   "execution_count": null,
   "metadata": {},
   "outputs": [],
   "source": []
  }
 ],
 "metadata": {
  "kernelspec": {
   "display_name": "Python 3 (ipykernel)",
   "language": "python",
   "name": "python3"
  },
  "language_info": {
   "codemirror_mode": {
    "name": "ipython",
    "version": 3
   },
   "file_extension": ".py",
   "mimetype": "text/x-python",
   "name": "python",
   "nbconvert_exporter": "python",
   "pygments_lexer": "ipython3",
   "version": "3.10.10"
  }
 },
 "nbformat": 4,
 "nbformat_minor": 4
}
