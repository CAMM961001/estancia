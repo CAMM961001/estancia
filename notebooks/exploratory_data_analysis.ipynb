{
 "cells": [
  {
   "cell_type": "markdown",
   "metadata": {},
   "source": [
    "Carga de librerías"
   ]
  },
  {
   "cell_type": "code",
   "execution_count": 1,
   "metadata": {},
   "outputs": [],
   "source": [
    "# System management packages\n",
    "import os\n",
    "import re\n",
    "import sys\n",
    "sys.path.append('../src')\n",
    "\n",
    "# Data science packages\n",
    "import numpy as np\n",
    "import pandas as pd\n",
    "import matplotlib.pyplot as plt\n",
    "\n",
    "# Geospatial packages\n",
    "import h3\n",
    "import contextily\n",
    "import geopandas as gpd\n",
    "from shapely import Polygon\n",
    "\n",
    "# Personal packages\n",
    "from settings import Settings\n",
    "from ipywidgets import widgets\n",
    "\n",
    "# Notebook settings\n",
    "settings = Settings()"
   ]
  },
  {
   "cell_type": "markdown",
   "metadata": {},
   "source": [
    "# Selección de fuente de datos"
   ]
  },
  {
   "cell_type": "code",
   "execution_count": 2,
   "metadata": {},
   "outputs": [
    {
     "data": {
      "application/vnd.jupyter.widget-view+json": {
       "model_id": "abcec299a70b47fcb111277936eaf7fb",
       "version_major": 2,
       "version_minor": 0
      },
      "text/plain": [
       "Dropdown(description='Files', options=('agg-maize-panel-rcp2p6.csv', 'agg-maize-panel-rcp8p5.csv'), value='agg…"
      ]
     },
     "metadata": {},
     "output_type": "display_data"
    }
   ],
   "source": [
    "# Data directory and list of files\n",
    "DATA_BASE_DIR = os.path.join(settings.ROOT, 'data')\n",
    "RAW_DATA = os.path.join(DATA_BASE_DIR, 'datos-produccion-maiz')\n",
    "#PROCESSED_DATA = os.path.join(DATA_BASE_DIR, 'maize_production_h3hex_cells')\n",
    "\n",
    "LIST_OF_FILES = [file for file in os.listdir(RAW_DATA) if file.startswith('agg')]\n",
    "H3_CATALOGUE = pd.read_csv(os.path.join(RAW_DATA, '01_h3_cells_catalogue.csv'))\n",
    "H3_RESOLUTION_LIST = [col for col in H3_CATALOGUE.columns if col.startswith('hex')]\n",
    "\n",
    "# Declare file selector instance and mesh resolution\n",
    "file_selector = widgets.Dropdown(\n",
    "    options=LIST_OF_FILES\n",
    "    ,description='Files'\n",
    "    ,disabled=False)\n",
    "\n",
    "# Display selectors\n",
    "display(file_selector)"
   ]
  },
  {
   "cell_type": "code",
   "execution_count": 3,
   "metadata": {},
   "outputs": [
    {
     "name": "stdout",
     "output_type": "stream",
     "text": [
      "Model pointer: RCP2P6\n"
     ]
    }
   ],
   "source": [
    "# Store file_selector output in variable\n",
    "file_path = os.path.join(RAW_DATA, file_selector.value)\n",
    "\n",
    "# Extract AIRCCA base model and h3 mesh resolution\n",
    "get_aircca_model = re.compile(r'rcp[0-9]p[0-9]')\n",
    "model_pointer = get_aircca_model.search(file_path).group()\n",
    "\n",
    "print(f'Model pointer: {model_pointer.upper()}')"
   ]
  },
  {
   "cell_type": "code",
   "execution_count": 4,
   "metadata": {},
   "outputs": [
    {
     "name": "stdout",
     "output_type": "stream",
     "text": [
      "<class 'pandas.core.frame.DataFrame'>\n",
      "RangeIndex: 94224 entries, 0 to 94223\n",
      "Data columns (total 25 columns):\n",
      " #   Column         Non-Null Count  Dtype  \n",
      "---  ------         --------------  -----  \n",
      " 0   id             94224 non-null  int64  \n",
      " 1   lon            94224 non-null  float64\n",
      " 2   lat            94224 non-null  float64\n",
      " 3   mean_precip    94224 non-null  float64\n",
      " 4   mean_precip_2  94224 non-null  float64\n",
      " 5   mean_temp      94224 non-null  float64\n",
      " 6   mean_temp_2    94224 non-null  float64\n",
      " 7   mean_yield     94224 non-null  float64\n",
      " 8   period         94224 non-null  object \n",
      " 9   hex_0          94221 non-null  object \n",
      " 10  hex_1          94221 non-null  object \n",
      " 11  hex_2          94221 non-null  object \n",
      " 12  hex_3          94221 non-null  object \n",
      " 13  hex_4          94221 non-null  object \n",
      " 14  hex_5          94221 non-null  object \n",
      " 15  hex_6          94221 non-null  object \n",
      " 16  hex_7          94221 non-null  object \n",
      " 17  hex_8          94221 non-null  object \n",
      " 18  hex_9          94221 non-null  object \n",
      " 19  hex_10         94221 non-null  object \n",
      " 20  hex_11         94221 non-null  object \n",
      " 21  hex_12         94221 non-null  object \n",
      " 22  hex_13         94221 non-null  object \n",
      " 23  hex_14         94221 non-null  object \n",
      " 24  hex_15         94221 non-null  object \n",
      "dtypes: float64(7), int64(1), object(17)\n",
      "memory usage: 18.0+ MB\n"
     ]
    }
   ],
   "source": [
    "# Load data into dataframe object\n",
    "data = (\n",
    "    pd.read_csv(file_path)\n",
    "    .join(\n",
    "        other=H3_CATALOGUE[['id'] + H3_RESOLUTION_LIST]\n",
    "        ,on='id'\n",
    "        ,how='left'\n",
    "        ,rsuffix='__ignore'))\n",
    "\n",
    "# Drop __ignore and format column names\n",
    "data.drop(\n",
    "    columns=[col for col in data.columns if col.__contains__('__ignore')]\n",
    "    ,inplace=True)\n",
    "\n",
    "data.columns = [\n",
    "    re.sub(\n",
    "        pattern=r'[-\\. ]'\n",
    "        ,repl='_'\n",
    "        ,string=colname.lower().strip())\n",
    "    for colname in data.columns]\n",
    "\n",
    "# List of ordinary predictors, non geographical nor temporal data\n",
    "ordinary_predictors = [var for var in data.columns if var.startswith('mean')]\n",
    "\n",
    "data.info()"
   ]
  },
  {
   "cell_type": "markdown",
   "metadata": {},
   "source": [
    "# Visualización inicial"
   ]
  },
  {
   "cell_type": "code",
   "execution_count": 5,
   "metadata": {},
   "outputs": [],
   "source": [
    "def plot_yield_full_data(variable, period):\n",
    "    # Visualization data\n",
    "    _vis = (\n",
    "        data\n",
    "        .query(f\"period == '{period}'\"))\n",
    "\n",
    "    # Figure config\n",
    "    fig, ax = plt.subplots(figsize=(16,7))\n",
    "    \n",
    "    # Visualization elements\n",
    "    map = ax.scatter(\n",
    "        x=_vis.lon\n",
    "        ,y=_vis.lat\n",
    "        ,s=5\n",
    "        ,c=_vis[variable]\n",
    "        ,cmap='viridis')\n",
    "\n",
    "    colorbar = plt.colorbar(map)\n",
    "    \n",
    "    # Annotations and styling\n",
    "    ax.set_title(\n",
    "        label=f'{model_pointer.upper()}, {period}: {variable}'\n",
    "        ,fontsize=16)\n",
    "    ax.set_yticks([])\n",
    "    ax.set_xticks([])\n",
    "    ax.set_frame_on(False)\n",
    "\n",
    "    plt.show()"
   ]
  },
  {
   "cell_type": "code",
   "execution_count": 6,
   "metadata": {},
   "outputs": [
    {
     "data": {
      "application/vnd.jupyter.widget-view+json": {
       "model_id": "a002e07c10704a779b4c6006b45c206e",
       "version_major": 2,
       "version_minor": 0
      },
      "text/plain": [
       "interactive(children=(Dropdown(description='Variable', index=4, options=('mean_precip', 'mean_precip_2', 'mean…"
      ]
     },
     "metadata": {},
     "output_type": "display_data"
    },
    {
     "data": {
      "text/plain": [
       "<function __main__.plot_yield_full_data(variable, period)>"
      ]
     },
     "execution_count": 6,
     "metadata": {},
     "output_type": "execute_result"
    }
   ],
   "source": [
    "widgets.interact(\n",
    "    plot_yield_full_data\n",
    "    ,variable=widgets.Dropdown(\n",
    "        options=ordinary_predictors\n",
    "        ,value=ordinary_predictors[-1]\n",
    "        ,description='Variable'\n",
    "        ,disabled=False)\n",
    "    ,period=widgets.Dropdown(\n",
    "        options=data.period.unique()\n",
    "        #,value=ordinary_predictors[-1]\n",
    "        ,description='Period'\n",
    "        ,disabled=False))"
   ]
  },
  {
   "cell_type": "markdown",
   "metadata": {},
   "source": [
    "# Visualización con h3-py\n",
    "\n",
    "Revisar la siguiente [liga](https://github.com/uber/h3-py-notebooks/blob/master/notebooks/unified_data_layers.ipynb) para mayor detalle de las funcionalidades del framework de Uber.\n",
    "\n",
    "Se empieza definiendo resoluciones de mallado para las celdas hexagonales\n",
    "\n",
    "**IMPORTANTE**:\n",
    "\n",
    "En la función `h3.latlng_to_cell(*, res)` el parámetro `res` pareciera que toma `res=15` como valor máximo, y no toma valores negativos. Pero el valor máximo pudiera deberse a recursos computacionales de mi máquina.\n",
    "\n",
    "Adicionalmente, se define una función para extraer los polígonos asociados a cada uno de los hexágonos de la malla h3"
   ]
  },
  {
   "cell_type": "code",
   "execution_count": 7,
   "metadata": {},
   "outputs": [],
   "source": [
    "def get_h3_polygon(row:str):\n",
    "    points = h3.cell_to_boundary(\n",
    "        h=row\n",
    "        ,geo_json=True)\n",
    "\n",
    "    return Polygon(points)"
   ]
  },
  {
   "cell_type": "code",
   "execution_count": 8,
   "metadata": {},
   "outputs": [],
   "source": [
    "# Función de visualización interactiva\n",
    "def plot_yield_h3(variable, resolution, period, basemap=False):\n",
    "    _vis = (\n",
    "        data\n",
    "        .query(f\"period == '{period}'\")\n",
    "        .filter(items=[resolution] + ordinary_predictors)\n",
    "        # Group by hexagonal cell identifier\n",
    "        .groupby(by=resolution)\n",
    "        # Compute group sizes\n",
    "        .mean()\n",
    "        # Reset index for data processing\n",
    "        .reset_index()\n",
    "        # Compute groups centroids\n",
    "        .assign(\n",
    "            # Get centroid latitude\n",
    "            lat = lambda _df: _df[resolution].apply(lambda row: h3.cell_to_latlng(row)[0])\n",
    "            # Get centroid longitude\n",
    "            ,lon = lambda _df: _df[resolution].apply(lambda row: h3.cell_to_latlng(row)[1])\n",
    "            # Get h3 mesh polygons\n",
    "            ,geometry = lambda _df: _df[resolution].apply(func=get_h3_polygon))\n",
    "    )\n",
    "\n",
    "    # Convert to geoDataFrame\n",
    "    _vis = gpd.GeoDataFrame(data=_vis, crs='EPSG:4326')\n",
    "\n",
    "    # Figure config\n",
    "    fig, ax = plt.subplots(figsize=(16,7))\n",
    "    \n",
    "    # Visualization elements\n",
    "    map = _vis.plot(\n",
    "        column=variable\n",
    "        ,legend=True\n",
    "        ,ax=ax)\n",
    "\n",
    "    # ---- Basemap\n",
    "    if basemap:\n",
    "        contextily.add_basemap(\n",
    "            ax=ax\n",
    "            ,crs=_vis.crs\n",
    "            ,source=contextily.providers.CartoDB.PositronNoLabels)\n",
    "\n",
    "    # Annotations and styling\n",
    "    ax.set_title(\n",
    "        label=f'{model_pointer.upper()}, {period}: {variable}'\n",
    "        ,fontsize=16)\n",
    "    ax.set_yticks([])\n",
    "    ax.set_xticks([])\n",
    "    ax.set_frame_on(False)\n",
    "\n",
    "    plt.show()"
   ]
  },
  {
   "cell_type": "code",
   "execution_count": 9,
   "metadata": {},
   "outputs": [
    {
     "data": {
      "application/vnd.jupyter.widget-view+json": {
       "model_id": "0f4213e0cc7947feb7e1237d3cda8550",
       "version_major": 2,
       "version_minor": 0
      },
      "text/plain": [
       "interactive(children=(Dropdown(description='Variable', index=4, options=('mean_precip', 'mean_precip_2', 'mean…"
      ]
     },
     "metadata": {},
     "output_type": "display_data"
    },
    {
     "data": {
      "text/plain": [
       "<function __main__.plot_yield_h3(variable, resolution, period, basemap=False)>"
      ]
     },
     "execution_count": 9,
     "metadata": {},
     "output_type": "execute_result"
    }
   ],
   "source": [
    "widgets.interact(\n",
    "    plot_yield_h3\n",
    "    ,variable=widgets.Dropdown(\n",
    "        options=ordinary_predictors\n",
    "        ,value=ordinary_predictors[-1]\n",
    "        ,description='Variable'\n",
    "        ,disabled=False)\n",
    "    ,resolution=widgets.Dropdown(\n",
    "        options=H3_RESOLUTION_LIST\n",
    "        ,value='hex_3'\n",
    "        ,description='Resolution'\n",
    "        ,disabled=False)\n",
    "    ,period=widgets.Dropdown(\n",
    "        options=data.period.unique()\n",
    "        ,description='Period'\n",
    "        ,disabled=False)\n",
    "    ,basemap=widgets.Checkbox(\n",
    "        value=True\n",
    "        ,description='Basemap'\n",
    "        ,disabled=False\n",
    "        ,indent=True)\n",
    ")"
   ]
  },
  {
   "cell_type": "markdown",
   "metadata": {},
   "source": [
    "# Estrategias de modelado\n",
    "\n",
    "El autor propone el siguiente modelo para la resolución del problema:\n",
    "\n",
    "$$Y_{it} = C + \\beta_1T_{it} + \\beta_2T^2_{it} + \\beta_3P_{it} + \\beta_4P^2_{it} + \\beta_5P_{it}T_{it} + \\lambda_t + \\alpha_i + u_{it}$$\n",
    "\n",
    "En donde:\n",
    "\n",
    "* $C$: Intercepto\n",
    "* $T_{it}$: Temperatura del elemento $i$ al tiempo $t$\n",
    "* $P_{it}$: Presipitación del elemento $i$ al tiempo $t$\n",
    "* $\\lambda_t$: Efectos fijos del periodo\n",
    "* $\\alpha_i$: Intercepto del elemento $i$\n",
    "* $u_{it}$: Error del elemento $i$ al tiempo $t$"
   ]
  },
  {
   "cell_type": "code",
   "execution_count": null,
   "metadata": {},
   "outputs": [],
   "source": []
  }
 ],
 "metadata": {
  "kernelspec": {
   "display_name": "Python 3 (ipykernel)",
   "language": "python",
   "name": "python3"
  },
  "language_info": {
   "codemirror_mode": {
    "name": "ipython",
    "version": 3
   },
   "file_extension": ".py",
   "mimetype": "text/x-python",
   "name": "python",
   "nbconvert_exporter": "python",
   "pygments_lexer": "ipython3",
   "version": "3.10.10"
  }
 },
 "nbformat": 4,
 "nbformat_minor": 4
}
