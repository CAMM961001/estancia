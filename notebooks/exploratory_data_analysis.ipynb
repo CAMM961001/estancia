{
 "cells": [
  {
   "cell_type": "markdown",
   "metadata": {},
   "source": [
    "Carga de librerías"
   ]
  },
  {
   "cell_type": "code",
   "execution_count": 1,
   "metadata": {},
   "outputs": [],
   "source": [
    "# System\n",
    "import os\n",
    "import re\n",
    "import sys\n",
    "sys.path.append('../src')\n",
    "\n",
    "# Overall\n",
    "import h3\n",
    "import numpy as np\n",
    "import pandas as pd\n",
    "import matplotlib.pyplot as plt\n",
    "\n",
    "# Partial\n",
    "from settings import Settings\n",
    "from ipywidgets import widgets\n",
    "\n",
    "# Notebook settings\n",
    "settings = Settings()"
   ]
  },
  {
   "cell_type": "markdown",
   "metadata": {},
   "source": [
    "# Selección de fuente de datos"
   ]
  },
  {
   "cell_type": "code",
   "execution_count": 2,
   "metadata": {},
   "outputs": [
    {
     "data": {
      "application/vnd.jupyter.widget-view+json": {
       "model_id": "a6f33d89603b4a61a5acd04dbd6f87e8",
       "version_major": 2,
       "version_minor": 0
      },
      "text/plain": [
       "Dropdown(description='Files', options=('hist-maize-panel-rcp2p6.csv', 'hist-maize-panel-rcp8p5.csv'), value='h…"
      ]
     },
     "metadata": {},
     "output_type": "display_data"
    }
   ],
   "source": [
    "# Data directory and list of files\n",
    "DATA_BASE_DIR = os.path.join(settings.ROOT, 'data')\n",
    "RAW_DATA = os.path.join(DATA_BASE_DIR, 'datos-produccion-maiz')\n",
    "#PROCESSED_DATA = os.path.join(DATA_BASE_DIR, 'maize_production_h3hex_cells')\n",
    "\n",
    "LIST_OF_FILES = [file for file in os.listdir(RAW_DATA) if file.startswith('hist')]\n",
    "H3_CATALOGUE = pd.read_csv(os.path.join(RAW_DATA, '01_h3_cells_catalogue.csv'))\n",
    "H3_RESOLUTION_LIST = [col for col in H3_CATALOGUE.columns if col.startswith('hex')]\n",
    "\n",
    "# Declare file selector instance and mesh resolution\n",
    "file_selector = widgets.Dropdown(\n",
    "    options=LIST_OF_FILES\n",
    "    ,description='Files'\n",
    "    ,disabled=False)\n",
    "\n",
    "# Display selectors\n",
    "display(file_selector)"
   ]
  },
  {
   "cell_type": "code",
   "execution_count": 3,
   "metadata": {},
   "outputs": [
    {
     "name": "stdout",
     "output_type": "stream",
     "text": [
      "Model pointer: RCP2P6\n"
     ]
    }
   ],
   "source": [
    "# Store file_selector output in variable\n",
    "file_path = os.path.join(RAW_DATA, file_selector.value)\n",
    "\n",
    "# Extract AIRCCA base model and h3 mesh resolution\n",
    "get_aircca_model = re.compile(r'rcp[0-9]p[0-9]')\n",
    "model_pointer = get_aircca_model.search(file_path).group()\n",
    "\n",
    "print(f'Model pointer: {model_pointer.upper()}')"
   ]
  },
  {
   "cell_type": "code",
   "execution_count": 4,
   "metadata": {},
   "outputs": [
    {
     "name": "stdout",
     "output_type": "stream",
     "text": [
      "<class 'pandas.core.frame.DataFrame'>\n",
      "RangeIndex: 2826720 entries, 0 to 2826719\n",
      "Data columns (total 25 columns):\n",
      " #   Column         Dtype  \n",
      "---  ------         -----  \n",
      " 0   lon            float64\n",
      " 1   lat            float64\n",
      " 2   year           int64  \n",
      " 3   mean_precip    float64\n",
      " 4   mean_precip_2  float64\n",
      " 5   mean_temp      float64\n",
      " 6   mean_temp_2    float64\n",
      " 7   mean_yield     float64\n",
      " 8   id             int64  \n",
      " 9   hex_0          object \n",
      " 10  hex_1          object \n",
      " 11  hex_2          object \n",
      " 12  hex_3          object \n",
      " 13  hex_4          object \n",
      " 14  hex_5          object \n",
      " 15  hex_6          object \n",
      " 16  hex_7          object \n",
      " 17  hex_8          object \n",
      " 18  hex_9          object \n",
      " 19  hex_10         object \n",
      " 20  hex_11         object \n",
      " 21  hex_12         object \n",
      " 22  hex_13         object \n",
      " 23  hex_14         object \n",
      " 24  hex_15         object \n",
      "dtypes: float64(7), int64(2), object(16)\n",
      "memory usage: 539.2+ MB\n"
     ]
    }
   ],
   "source": [
    "# Load data into dataframe object\n",
    "data = (\n",
    "    pd.read_csv(file_path)\n",
    "    .join(\n",
    "        other=H3_CATALOGUE[['id'] + H3_RESOLUTION_LIST]\n",
    "        ,on='id'\n",
    "        ,how='left'\n",
    "        ,rsuffix='__ignore'))\n",
    "\n",
    "# Drop __ignore and format column names\n",
    "data.drop(\n",
    "    columns=[col for col in data.columns if col.__contains__('__ignore')]\n",
    "    ,inplace=True)\n",
    "\n",
    "data.columns = [\n",
    "    re.sub(\n",
    "        pattern=r'[-\\. ]'\n",
    "        ,repl='_'\n",
    "        ,string=colname.lower().strip())\n",
    "    for colname in data.columns]\n",
    "\n",
    "# List of ordinary predictors, non geographical nor temporal data\n",
    "ordinary_predictors = [var for var in data.columns if var.startswith('mean')]\n",
    "\n",
    "data.info()"
   ]
  },
  {
   "cell_type": "markdown",
   "metadata": {},
   "source": [
    "# Visualización inicial"
   ]
  },
  {
   "cell_type": "code",
   "execution_count": 5,
   "metadata": {},
   "outputs": [],
   "source": [
    "def plot_yield_full_data(variable, year):\n",
    "    # Visualization data\n",
    "    _vis = (\n",
    "        data\n",
    "        .query(f\"year == {year}\"))\n",
    "\n",
    "    # Figure config\n",
    "    fig, ax = plt.subplots(figsize=(16,7))\n",
    "    \n",
    "    # Visualization elements\n",
    "    map = ax.scatter(\n",
    "        x=_vis.lon\n",
    "        ,y=_vis.lat\n",
    "        ,s=5\n",
    "        ,c=_vis[variable]\n",
    "        ,cmap='viridis')\n",
    "\n",
    "    colorbar = plt.colorbar(map)\n",
    "    \n",
    "    # Annotations and styling\n",
    "    ax.set_title(\n",
    "        label=f'{model_pointer.upper()}, {year}: {variable}'\n",
    "        ,fontsize=16)\n",
    "    ax.set_yticks([])\n",
    "    ax.set_xticks([])\n",
    "    ax.set_frame_on(False)\n",
    "\n",
    "    plt.show()"
   ]
  },
  {
   "cell_type": "code",
   "execution_count": 6,
   "metadata": {},
   "outputs": [
    {
     "data": {
      "application/vnd.jupyter.widget-view+json": {
       "model_id": "c6b7e905439940bdbc344ae0d91c29f9",
       "version_major": 2,
       "version_minor": 0
      },
      "text/plain": [
       "interactive(children=(Dropdown(description='Variable', index=4, options=('mean_precip', 'mean_precip_2', 'mean…"
      ]
     },
     "metadata": {},
     "output_type": "display_data"
    },
    {
     "data": {
      "text/plain": [
       "<function __main__.plot_yield_full_data(variable, year)>"
      ]
     },
     "execution_count": 6,
     "metadata": {},
     "output_type": "execute_result"
    }
   ],
   "source": [
    "widgets.interact(\n",
    "    plot_yield_full_data\n",
    "    ,variable=widgets.Dropdown(\n",
    "        options=ordinary_predictors\n",
    "        ,value=ordinary_predictors[-1]\n",
    "        ,description='Variable'\n",
    "        ,disabled=False)\n",
    "    ,year=widgets.IntSlider(\n",
    "        min=data.year.unique().min()\n",
    "        ,max=data.year.unique().max()\n",
    "        ,step=1))"
   ]
  },
  {
   "cell_type": "markdown",
   "metadata": {},
   "source": [
    "# Visualización con h3-py\n",
    "\n",
    "Revisar la siguiente [liga](https://github.com/uber/h3-py-notebooks/blob/master/notebooks/unified_data_layers.ipynb) para mayor detalle de las funcionalidades del framework de Uber.\n",
    "\n",
    "Se empieza definiendo resoluciones de mallado para las celdas hexagonales\n",
    "\n",
    "**IMPORTANTE**:\n",
    "\n",
    "En la función `h3.latlng_to_cell(*, res)` el parámetro `res` pareciera que toma `res=15` como valor máximo, y no toma valores negativos. Pero el valor máximo pudiera deberse a recursos computacionales de mi máquina."
   ]
  },
  {
   "cell_type": "code",
   "execution_count": 7,
   "metadata": {},
   "outputs": [],
   "source": [
    "def plot_yield_h3(variable, resolution, year, point_size):\n",
    "    # Visualization data\n",
    "    _vis = (\n",
    "        data\n",
    "        .query(f\"year == {year}\")\n",
    "        .filter(items=[resolution] + ordinary_predictors)\n",
    "        # Group by hexagonal cell identifier\n",
    "        .groupby(by=resolution)\n",
    "        # Compute group sizes\n",
    "        .mean()\n",
    "        # Reset index for data processing\n",
    "        .reset_index()\n",
    "        # Compute groups centroids\n",
    "        .assign(\n",
    "            # Get centroid latitude\n",
    "            lat = lambda _df: _df[resolution].apply(lambda row: h3.cell_to_latlng(row)[0])\n",
    "            # Get centroid longitude\n",
    "            ,lon = lambda _df: _df[resolution].apply(lambda row: h3.cell_to_latlng(row)[1]))\n",
    "    )\n",
    "\n",
    "    # Figure config\n",
    "    fig, ax = plt.subplots(figsize=(16,7))\n",
    "    \n",
    "    # Visualization elements\n",
    "    map = ax.scatter(\n",
    "        x=_vis.lon\n",
    "        ,y=_vis.lat\n",
    "        ,s=point_size\n",
    "        ,c=_vis[variable]\n",
    "        ,cmap='viridis')\n",
    "\n",
    "    colorbar = plt.colorbar(map)\n",
    "    \n",
    "    # Annotations and styling\n",
    "    ax.set_title(\n",
    "        label=f'{model_pointer.upper()}, {year}: {variable}'\n",
    "        ,fontsize=16)\n",
    "    ax.set_yticks([])\n",
    "    ax.set_xticks([])\n",
    "    ax.set_frame_on(False)\n",
    "\n",
    "    plt.show()"
   ]
  },
  {
   "cell_type": "code",
   "execution_count": 8,
   "metadata": {},
   "outputs": [
    {
     "data": {
      "application/vnd.jupyter.widget-view+json": {
       "model_id": "e9080d0c88994e9da53fd3a3b7328ea7",
       "version_major": 2,
       "version_minor": 0
      },
      "text/plain": [
       "interactive(children=(Dropdown(description='Variable', index=4, options=('mean_precip', 'mean_precip_2', 'mean…"
      ]
     },
     "metadata": {},
     "output_type": "display_data"
    },
    {
     "data": {
      "text/plain": [
       "<function __main__.plot_yield_h3(variable, resolution, year, point_size)>"
      ]
     },
     "execution_count": 8,
     "metadata": {},
     "output_type": "execute_result"
    }
   ],
   "source": [
    "widgets.interact(\n",
    "    plot_yield_h3\n",
    "    ,variable=widgets.Dropdown(\n",
    "        options=ordinary_predictors\n",
    "        ,value=ordinary_predictors[-1]\n",
    "        ,description='Variable'\n",
    "        ,disabled=False)\n",
    "    ,resolution=widgets.Dropdown(\n",
    "        options=H3_RESOLUTION_LIST\n",
    "        ,description='Resolution'\n",
    "        ,disabled=False)\n",
    "    ,year=widgets.IntSlider(\n",
    "        min=data.year.unique().min()\n",
    "        ,max=data.year.unique().max()\n",
    "        ,step=1)\n",
    "    ,point_size=widgets.IntSlider(\n",
    "        value=5\n",
    "        ,min=1\n",
    "        ,max=250\n",
    "        ,step=2\n",
    "        ,description='Point size'\n",
    "        ,disabled=False)\n",
    ")"
   ]
  },
  {
   "cell_type": "code",
   "execution_count": null,
   "metadata": {},
   "outputs": [],
   "source": []
  }
 ],
 "metadata": {
  "kernelspec": {
   "display_name": "Python 3 (ipykernel)",
   "language": "python",
   "name": "python3"
  },
  "language_info": {
   "codemirror_mode": {
    "name": "ipython",
    "version": 3
   },
   "file_extension": ".py",
   "mimetype": "text/x-python",
   "name": "python",
   "nbconvert_exporter": "python",
   "pygments_lexer": "ipython3",
   "version": "3.10.10"
  }
 },
 "nbformat": 4,
 "nbformat_minor": 4
}
