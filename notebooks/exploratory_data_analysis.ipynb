{
 "cells": [
  {
   "cell_type": "code",
   "execution_count": 1,
   "metadata": {},
   "outputs": [],
   "source": [
    "# System imports\n",
    "import os\n",
    "import re\n",
    "import sys\n",
    "sys.path.append('../src')\n",
    "\n",
    "# Overall imports\n",
    "import pandas as pd\n",
    "\n",
    "# Partial imports\n",
    "from settings import ROOT\n",
    "from ipywidgets import widgets"
   ]
  },
  {
   "cell_type": "markdown",
   "metadata": {},
   "source": [
    "# Selección de fuente de datos"
   ]
  },
  {
   "cell_type": "code",
   "execution_count": 2,
   "metadata": {},
   "outputs": [
    {
     "data": {
      "application/vnd.jupyter.widget-view+json": {
       "model_id": "2f741e0d772e40fc9c6bf711ecf5858d",
       "version_major": 2,
       "version_minor": 0
      },
      "text/plain": [
       "Dropdown(description='Files', options=('hist-maize-panel-rcp2p6.csv', 'hist-maize-panel-rcp8p5.csv'), value='h…"
      ]
     },
     "metadata": {},
     "output_type": "display_data"
    }
   ],
   "source": [
    "# Data directory and list of files\n",
    "DATA_DIR = os.path.join(ROOT, 'data', 'datos-produccion-maiz')\n",
    "LIST_OF_FILES = [file for file in os.listdir(DATA_DIR) if file.startswith('hist')]\n",
    "\n",
    "# Declare file selector instance\n",
    "file_selector = widgets.Dropdown(\n",
    "    options=LIST_OF_FILES\n",
    "    ,description='Files'\n",
    "    ,disabled=False)\n",
    "\n",
    "# Display file selector\n",
    "display(file_selector)"
   ]
  },
  {
   "cell_type": "code",
   "execution_count": 3,
   "metadata": {},
   "outputs": [
    {
     "name": "stdout",
     "output_type": "stream",
     "text": [
      "File pointer: hist-maize-panel-rcp2p6.csv\n"
     ]
    }
   ],
   "source": [
    "# Store file_selector output in variable\n",
    "file_path = os.path.join(DATA_DIR, file_selector.value)\n",
    "print(f'File pointer: {os.path.basename(file_path)}')"
   ]
  },
  {
   "cell_type": "code",
   "execution_count": 4,
   "metadata": {},
   "outputs": [
    {
     "name": "stdout",
     "output_type": "stream",
     "text": [
      "<class 'pandas.core.frame.DataFrame'>\n",
      "RangeIndex: 2826720 entries, 0 to 2826719\n",
      "Data columns (total 9 columns):\n",
      " #   Column         Dtype  \n",
      "---  ------         -----  \n",
      " 0   lon            float64\n",
      " 1   lat            float64\n",
      " 2   year           int64  \n",
      " 3   mean_precip    float64\n",
      " 4   mean_precip_2  float64\n",
      " 5   mean_temp      float64\n",
      " 6   mean_temp_2    float64\n",
      " 7   mean_yield     float64\n",
      " 8   id             int64  \n",
      "dtypes: float64(7), int64(2)\n",
      "memory usage: 194.1 MB\n"
     ]
    }
   ],
   "source": [
    "# Load data into dataframe object\n",
    "data = pd.read_csv(file_path)\n",
    "\n",
    "# Column name formatter\n",
    "data.columns = [\n",
    "    re.sub(\n",
    "        pattern=r'[-\\. ]'\n",
    "        ,repl='_'\n",
    "        ,string=colname.lower().strip())\n",
    "    for colname in data.columns]\n",
    "\n",
    "data.info()"
   ]
  },
  {
   "cell_type": "code",
   "execution_count": 4,
   "metadata": {},
   "outputs": [
    {
     "data": {
      "text/plain": [
       "'hist-maize-panel-rcp8p5.csv'"
      ]
     },
     "execution_count": 4,
     "metadata": {},
     "output_type": "execute_result"
    }
   ],
   "source": []
  },
  {
   "cell_type": "code",
   "execution_count": null,
   "metadata": {},
   "outputs": [],
   "source": []
  }
 ],
 "metadata": {
  "kernelspec": {
   "display_name": "venv",
   "language": "python",
   "name": "python3"
  },
  "language_info": {
   "codemirror_mode": {
    "name": "ipython",
    "version": 3
   },
   "file_extension": ".py",
   "mimetype": "text/x-python",
   "name": "python",
   "nbconvert_exporter": "python",
   "pygments_lexer": "ipython3",
   "version": "3.10.10"
  },
  "orig_nbformat": 4
 },
 "nbformat": 4,
 "nbformat_minor": 2
}
