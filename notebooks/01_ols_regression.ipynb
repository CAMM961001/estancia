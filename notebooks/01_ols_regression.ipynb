{
 "cells": [
  {
   "cell_type": "code",
   "execution_count": 16,
   "metadata": {},
   "outputs": [],
   "source": [
    "import os\n",
    "import numpy as np\n",
    "import pandas as pd\n",
    "\n",
    "from sklearn.preprocessing import OneHotEncoder\n",
    "from sklearn.linear_model import LinearRegression\n",
    "from sklearn.metrics import (\n",
    "    explained_variance_score,\n",
    "    r2_score,\n",
    "    mean_squared_error)"
   ]
  },
  {
   "cell_type": "markdown",
   "metadata": {},
   "source": [
    "# Modelo de regresón lineal sin agregación en H3\n",
    "\n",
    "El modelo de este notebook utiliza técnicas convencionales de aprendizaje automático para un regresión lineal.\n",
    "\n",
    "El tratamiento del componente geoespacial, es decir, los elementos de malla hexagonales de H3, se incorpora al modelo utilizando _One Hot Encoding_ de los elementos de la malla.\n",
    "\n",
    "## Carga de datos"
   ]
  },
  {
   "cell_type": "code",
   "execution_count": 2,
   "metadata": {},
   "outputs": [
    {
     "name": "stdout",
     "output_type": "stream",
     "text": [
      "<class 'pandas.core.frame.DataFrame'>\n",
      "Index: 94221 entries, 0 to 94222\n",
      "Data columns (total 7 columns):\n",
      " #   Column         Non-Null Count  Dtype  \n",
      "---  ------         --------------  -----  \n",
      " 0   mean_precip    94221 non-null  float64\n",
      " 1   mean_precip_2  94221 non-null  float64\n",
      " 2   mean_temp      94221 non-null  float64\n",
      " 3   mean_temp_2    94221 non-null  float64\n",
      " 4   mean_yield     94221 non-null  float64\n",
      " 5   period         94221 non-null  object \n",
      " 6   hex_3          94221 non-null  object \n",
      "dtypes: float64(5), object(2)\n",
      "memory usage: 5.8+ MB\n"
     ]
    }
   ],
   "source": [
    "# Ruta a archivos de datos\n",
    "DATA_PATH = os.path.join(\n",
    "    os.path.dirname(os.getcwd()),\n",
    "    'data',\n",
    "    'datos-produccion-maiz',\n",
    "    'agg-maize-panel-rcp2p6.csv')\n",
    "\n",
    "H3_CATALOGUE = os.path.join(\n",
    "    os.path.dirname(os.getcwd()),\n",
    "    'data',\n",
    "    'datos-produccion-maiz',\n",
    "    '01_h3_cells_catalogue.csv')\n",
    "\n",
    "# Carga de datos\n",
    "data = pd.read_csv(DATA_PATH)\n",
    "cat_h3 = pd.read_csv(H3_CATALOGUE)\n",
    "h3_res = 'hex_3'\n",
    "\n",
    "# Unir resolución de malla a datos\n",
    "data = (\n",
    "    data\n",
    "    .join(\n",
    "        other=cat_h3[['id',h3_res]]\n",
    "        ,on='id'\n",
    "        ,how='left'\n",
    "        ,rsuffix='__ignore')\n",
    "    .drop(columns=['id','lon','lat','id__ignore'])\n",
    "    .dropna(axis=0))\n",
    "\n",
    "data.info()"
   ]
  },
  {
   "cell_type": "markdown",
   "metadata": {},
   "source": [
    "## Partición en Train y Test"
   ]
  },
  {
   "cell_type": "code",
   "execution_count": 3,
   "metadata": {},
   "outputs": [
    {
     "name": "stdout",
     "output_type": "stream",
     "text": [
      "Datasets dimensions:\n",
      "    x_train: (62814, 5)\n",
      "    y_train: (62814, 1)\n",
      "    x_test: (31407, 5)\n",
      "    y_test: (31407, 1)\n"
     ]
    }
   ],
   "source": [
    "# Definición de variable objetivo\n",
    "target = 'mean_yield'\n",
    "\n",
    "# Partición de conjuntos de datos\n",
    "# Estructura de predictores\n",
    "# 0: mean_precip\n",
    "# 1: mean_precip_2\n",
    "# 2: mean_temp\n",
    "# 3: mean_temp_2\n",
    "# 4...: hex_3 en OHE\n",
    "x_train = (\n",
    "    data\n",
    "    .query(\"period in ['2005-2035','2035-2065']\")\n",
    "    .drop(columns=['period', target])\n",
    "    .to_numpy())\n",
    "y_train = (\n",
    "    data\n",
    "    .query(\"period in ['2005-2035','2035-2065']\")\n",
    "    .filter(items=[target])\n",
    "    .to_numpy())\n",
    "\n",
    "x_test = (\n",
    "    data\n",
    "    .query(\"period == '2065-2099'\")\n",
    "    .drop(columns=['period', target])\n",
    "    .to_numpy())\n",
    "y_test = (\n",
    "    data\n",
    "    .query(\"period == '2065-2099'\")\n",
    "    .filter(items=[target])\n",
    "    .to_numpy())\n",
    "\n",
    "print(\n",
    "    f\"\"\"Datasets dimensions:\n",
    "    x_train: {x_train.shape}\n",
    "    y_train: {y_train.shape}\n",
    "    x_test: {x_test.shape}\n",
    "    y_test: {y_test.shape}\"\"\")"
   ]
  },
  {
   "cell_type": "markdown",
   "metadata": {},
   "source": [
    "## Ingeniería de características"
   ]
  },
  {
   "cell_type": "code",
   "execution_count": 4,
   "metadata": {},
   "outputs": [],
   "source": [
    "# Iniciar objeto encoder\n",
    "ohe = OneHotEncoder(\n",
    "    drop='first',\n",
    "    handle_unknown='error',\n",
    "    sparse_output=False)\n",
    "\n",
    "# Ajustar encoder\n",
    "ohe.fit(cat_h3[h3_res].unique().reshape((-1,1)))\n",
    "\n",
    "# Transformar conjuntos train y test\n",
    "x_train = np.hstack((\n",
    "    np.delete(arr=x_train, obj=4, axis=1),\n",
    "    ohe.transform(X=x_train[:,4].reshape((-1,1))) ))\n",
    "x_test = np.hstack((\n",
    "    np.delete(arr=x_test, obj=4, axis=1),\n",
    "    ohe.transform(X=x_test[:,4].reshape((-1,1))) ))\n",
    "\n",
    "# Inspeccionar dimensiones\n",
    "x_train.shape, x_test.shape"
   ]
  },
  {
   "cell_type": "markdown",
   "metadata": {},
   "source": [
    "## Modelo de regresión lineal\n",
    "\n",
    "Entrenamiento de modelo\n",
    "\n",
    "Tiempo de procesamiento: `6min 48s`"
   ]
  },
  {
   "cell_type": "code",
   "execution_count": 10,
   "metadata": {},
   "outputs": [
    {
     "data": {
      "text/html": [
       "<style>#sk-container-id-1 {color: black;}#sk-container-id-1 pre{padding: 0;}#sk-container-id-1 div.sk-toggleable {background-color: white;}#sk-container-id-1 label.sk-toggleable__label {cursor: pointer;display: block;width: 100%;margin-bottom: 0;padding: 0.3em;box-sizing: border-box;text-align: center;}#sk-container-id-1 label.sk-toggleable__label-arrow:before {content: \"▸\";float: left;margin-right: 0.25em;color: #696969;}#sk-container-id-1 label.sk-toggleable__label-arrow:hover:before {color: black;}#sk-container-id-1 div.sk-estimator:hover label.sk-toggleable__label-arrow:before {color: black;}#sk-container-id-1 div.sk-toggleable__content {max-height: 0;max-width: 0;overflow: hidden;text-align: left;background-color: #f0f8ff;}#sk-container-id-1 div.sk-toggleable__content pre {margin: 0.2em;color: black;border-radius: 0.25em;background-color: #f0f8ff;}#sk-container-id-1 input.sk-toggleable__control:checked~div.sk-toggleable__content {max-height: 200px;max-width: 100%;overflow: auto;}#sk-container-id-1 input.sk-toggleable__control:checked~label.sk-toggleable__label-arrow:before {content: \"▾\";}#sk-container-id-1 div.sk-estimator input.sk-toggleable__control:checked~label.sk-toggleable__label {background-color: #d4ebff;}#sk-container-id-1 div.sk-label input.sk-toggleable__control:checked~label.sk-toggleable__label {background-color: #d4ebff;}#sk-container-id-1 input.sk-hidden--visually {border: 0;clip: rect(1px 1px 1px 1px);clip: rect(1px, 1px, 1px, 1px);height: 1px;margin: -1px;overflow: hidden;padding: 0;position: absolute;width: 1px;}#sk-container-id-1 div.sk-estimator {font-family: monospace;background-color: #f0f8ff;border: 1px dotted black;border-radius: 0.25em;box-sizing: border-box;margin-bottom: 0.5em;}#sk-container-id-1 div.sk-estimator:hover {background-color: #d4ebff;}#sk-container-id-1 div.sk-parallel-item::after {content: \"\";width: 100%;border-bottom: 1px solid gray;flex-grow: 1;}#sk-container-id-1 div.sk-label:hover label.sk-toggleable__label {background-color: #d4ebff;}#sk-container-id-1 div.sk-serial::before {content: \"\";position: absolute;border-left: 1px solid gray;box-sizing: border-box;top: 0;bottom: 0;left: 50%;z-index: 0;}#sk-container-id-1 div.sk-serial {display: flex;flex-direction: column;align-items: center;background-color: white;padding-right: 0.2em;padding-left: 0.2em;position: relative;}#sk-container-id-1 div.sk-item {position: relative;z-index: 1;}#sk-container-id-1 div.sk-parallel {display: flex;align-items: stretch;justify-content: center;background-color: white;position: relative;}#sk-container-id-1 div.sk-item::before, #sk-container-id-1 div.sk-parallel-item::before {content: \"\";position: absolute;border-left: 1px solid gray;box-sizing: border-box;top: 0;bottom: 0;left: 50%;z-index: -1;}#sk-container-id-1 div.sk-parallel-item {display: flex;flex-direction: column;z-index: 1;position: relative;background-color: white;}#sk-container-id-1 div.sk-parallel-item:first-child::after {align-self: flex-end;width: 50%;}#sk-container-id-1 div.sk-parallel-item:last-child::after {align-self: flex-start;width: 50%;}#sk-container-id-1 div.sk-parallel-item:only-child::after {width: 0;}#sk-container-id-1 div.sk-dashed-wrapped {border: 1px dashed gray;margin: 0 0.4em 0.5em 0.4em;box-sizing: border-box;padding-bottom: 0.4em;background-color: white;}#sk-container-id-1 div.sk-label label {font-family: monospace;font-weight: bold;display: inline-block;line-height: 1.2em;}#sk-container-id-1 div.sk-label-container {text-align: center;}#sk-container-id-1 div.sk-container {/* jupyter's `normalize.less` sets `[hidden] { display: none; }` but bootstrap.min.css set `[hidden] { display: none !important; }` so we also need the `!important` here to be able to override the default hidden behavior on the sphinx rendered scikit-learn.org. See: https://github.com/scikit-learn/scikit-learn/issues/21755 */display: inline-block !important;position: relative;}#sk-container-id-1 div.sk-text-repr-fallback {display: none;}</style><div id=\"sk-container-id-1\" class=\"sk-top-container\"><div class=\"sk-text-repr-fallback\"><pre>LinearRegression(n_jobs=-1)</pre><b>In a Jupyter environment, please rerun this cell to show the HTML representation or trust the notebook. <br />On GitHub, the HTML representation is unable to render, please try loading this page with nbviewer.org.</b></div><div class=\"sk-container\" hidden><div class=\"sk-item\"><div class=\"sk-estimator sk-toggleable\"><input class=\"sk-toggleable__control sk-hidden--visually\" id=\"sk-estimator-id-1\" type=\"checkbox\" checked><label for=\"sk-estimator-id-1\" class=\"sk-toggleable__label sk-toggleable__label-arrow\">LinearRegression</label><div class=\"sk-toggleable__content\"><pre>LinearRegression(n_jobs=-1)</pre></div></div></div></div></div>"
      ],
      "text/plain": [
       "LinearRegression(n_jobs=-1)"
      ]
     },
     "execution_count": 10,
     "metadata": {},
     "output_type": "execute_result"
    }
   ],
   "source": [
    "%%time\n",
    "\n",
    "# Iniciar instancia de modelo\n",
    "ols = LinearRegression(\n",
    "    fit_intercept=True,\n",
    "    n_jobs=-1)\n",
    "\n",
    "# Entrenamiento\n",
    "ols.fit(X=x_train, y=y_train)"
   ]
  },
  {
   "cell_type": "markdown",
   "metadata": {},
   "source": [
    "Coeficiente de determinación para datos de entrenamiento\n",
    "\n",
    "$R^2 = 0.956334$"
   ]
  },
  {
   "cell_type": "code",
   "execution_count": 13,
   "metadata": {},
   "outputs": [
    {
     "data": {
      "text/plain": [
       "0.9563346525301238"
      ]
     },
     "execution_count": 13,
     "metadata": {},
     "output_type": "execute_result"
    }
   ],
   "source": [
    "ols.score(X=x_train, y=y_train)"
   ]
  },
  {
   "cell_type": "markdown",
   "metadata": {},
   "source": [
    "Otras métricas de desempeño dentro del conjunto de entramiento"
   ]
  },
  {
   "cell_type": "code",
   "execution_count": 17,
   "metadata": {},
   "outputs": [],
   "source": [
    "y_pred = ols.predict(X=x_train)"
   ]
  },
  {
   "cell_type": "code",
   "execution_count": 20,
   "metadata": {},
   "outputs": [
    {
     "name": "stdout",
     "output_type": "stream",
     "text": [
      "Métricas en train:\n",
      "    varianza explicada: 95.63 %\n",
      "    coef. determinación: 0.956335\n",
      "    RMSE: 0.700559\n"
     ]
    }
   ],
   "source": [
    "var_score_train = explained_variance_score(y_true=y_train, y_pred=y_pred)\n",
    "r2_train = r2_score(y_true=y_train, y_pred=y_pred)\n",
    "rmse_train = mean_squared_error(y_true=y_train, y_pred=y_pred)\n",
    "\n",
    "print(\n",
    "    f\"\"\"Métricas en train:\n",
    "    varianza explicada: {100*var_score_train:.2f} %\n",
    "    coef. determinación: {r2_train:.6f}\n",
    "    RMSE: {np.sqrt(rmse_train):.6f}\"\"\")"
   ]
  },
  {
   "cell_type": "markdown",
   "metadata": {},
   "source": [
    "## Desempeño en Test"
   ]
  },
  {
   "cell_type": "code",
   "execution_count": 21,
   "metadata": {},
   "outputs": [],
   "source": [
    "y_pred = ols.predict(X=x_test)"
   ]
  },
  {
   "cell_type": "code",
   "execution_count": 22,
   "metadata": {},
   "outputs": [
    {
     "name": "stdout",
     "output_type": "stream",
     "text": [
      "Métricas en train:\n",
      "    varianza explicada: 95.03 %\n",
      "    coef. determinación: 0.950279\n",
      "    RMSE: 0.739847\n"
     ]
    }
   ],
   "source": [
    "var_score_test = explained_variance_score(y_true=y_test, y_pred=y_pred)\n",
    "r2_test = r2_score(y_true=y_test, y_pred=y_pred)\n",
    "rmse_test = mean_squared_error(y_true=y_test, y_pred=y_pred)\n",
    "\n",
    "print(\n",
    "    f\"\"\"Métricas en train:\n",
    "    varianza explicada: {100*var_score_test:.2f} %\n",
    "    coef. determinación: {r2_test:.6f}\n",
    "    RMSE: {np.sqrt(rmse_test):.6f}\"\"\")"
   ]
  },
  {
   "cell_type": "markdown",
   "metadata": {},
   "source": [
    "# Normalidad geoespacial de residuales\n",
    "\n",
    "## Datos expandidos"
   ]
  },
  {
   "cell_type": "code",
   "execution_count": 28,
   "metadata": {},
   "outputs": [
    {
     "data": {
      "text/html": [
       "<div>\n",
       "<style scoped>\n",
       "    .dataframe tbody tr th:only-of-type {\n",
       "        vertical-align: middle;\n",
       "    }\n",
       "\n",
       "    .dataframe tbody tr th {\n",
       "        vertical-align: top;\n",
       "    }\n",
       "\n",
       "    .dataframe thead th {\n",
       "        text-align: right;\n",
       "    }\n",
       "</style>\n",
       "<table border=\"1\" class=\"dataframe\">\n",
       "  <thead>\n",
       "    <tr style=\"text-align: right;\">\n",
       "      <th></th>\n",
       "      <th>mean_precip</th>\n",
       "      <th>mean_precip_2</th>\n",
       "      <th>mean_temp</th>\n",
       "      <th>mean_temp_2</th>\n",
       "      <th>mean_yield</th>\n",
       "      <th>period</th>\n",
       "      <th>hex_3</th>\n",
       "      <th>mean_yield_pred</th>\n",
       "      <th>residuals</th>\n",
       "    </tr>\n",
       "  </thead>\n",
       "  <tbody>\n",
       "    <tr>\n",
       "      <th>62816</th>\n",
       "      <td>190.444427</td>\n",
       "      <td>54862.181776</td>\n",
       "      <td>7.804710</td>\n",
       "      <td>112.890992</td>\n",
       "      <td>3.524696</td>\n",
       "      <td>2065-2099</td>\n",
       "      <td>831284fffffffff</td>\n",
       "      <td>3.435467</td>\n",
       "      <td>-0.089229</td>\n",
       "    </tr>\n",
       "    <tr>\n",
       "      <th>62817</th>\n",
       "      <td>106.560491</td>\n",
       "      <td>16800.366451</td>\n",
       "      <td>6.571009</td>\n",
       "      <td>102.951142</td>\n",
       "      <td>2.802876</td>\n",
       "      <td>2065-2099</td>\n",
       "      <td>8312a2fffffffff</td>\n",
       "      <td>2.735325</td>\n",
       "      <td>-0.067550</td>\n",
       "    </tr>\n",
       "    <tr>\n",
       "      <th>62818</th>\n",
       "      <td>125.628080</td>\n",
       "      <td>23525.656879</td>\n",
       "      <td>6.060377</td>\n",
       "      <td>113.340650</td>\n",
       "      <td>2.557030</td>\n",
       "      <td>2065-2099</td>\n",
       "      <td>83129afffffffff</td>\n",
       "      <td>2.525273</td>\n",
       "      <td>-0.031758</td>\n",
       "    </tr>\n",
       "    <tr>\n",
       "      <th>62819</th>\n",
       "      <td>293.912360</td>\n",
       "      <td>118260.797323</td>\n",
       "      <td>10.605312</td>\n",
       "      <td>127.296821</td>\n",
       "      <td>4.206531</td>\n",
       "      <td>2065-2099</td>\n",
       "      <td>831298fffffffff</td>\n",
       "      <td>4.616246</td>\n",
       "      <td>0.409715</td>\n",
       "    </tr>\n",
       "    <tr>\n",
       "      <th>62820</th>\n",
       "      <td>285.466420</td>\n",
       "      <td>112295.478936</td>\n",
       "      <td>10.128092</td>\n",
       "      <td>127.814835</td>\n",
       "      <td>4.747389</td>\n",
       "      <td>2065-2099</td>\n",
       "      <td>83129cfffffffff</td>\n",
       "      <td>4.377287</td>\n",
       "      <td>-0.370101</td>\n",
       "    </tr>\n",
       "  </tbody>\n",
       "</table>\n",
       "</div>"
      ],
      "text/plain": [
       "       mean_precip  mean_precip_2  mean_temp  mean_temp_2  mean_yield  \\\n",
       "62816   190.444427   54862.181776   7.804710   112.890992    3.524696   \n",
       "62817   106.560491   16800.366451   6.571009   102.951142    2.802876   \n",
       "62818   125.628080   23525.656879   6.060377   113.340650    2.557030   \n",
       "62819   293.912360  118260.797323  10.605312   127.296821    4.206531   \n",
       "62820   285.466420  112295.478936  10.128092   127.814835    4.747389   \n",
       "\n",
       "          period            hex_3  mean_yield_pred  residuals  \n",
       "62816  2065-2099  831284fffffffff         3.435467  -0.089229  \n",
       "62817  2065-2099  8312a2fffffffff         2.735325  -0.067550  \n",
       "62818  2065-2099  83129afffffffff         2.525273  -0.031758  \n",
       "62819  2065-2099  831298fffffffff         4.616246   0.409715  \n",
       "62820  2065-2099  83129cfffffffff         4.377287  -0.370101  "
      ]
     },
     "execution_count": 28,
     "metadata": {},
     "output_type": "execute_result"
    }
   ],
   "source": [
    "residual_test = (\n",
    "    data\n",
    "    .query(\"period == '2065-2099'\")\n",
    "    .assign(\n",
    "        mean_yield_pred = y_pred,\n",
    "        residuals = lambda df: df.mean_yield_pred - df.mean_yield))\n",
    "\n",
    "residual_test.head()"
   ]
  },
  {
   "cell_type": "code",
   "execution_count": null,
   "metadata": {},
   "outputs": [],
   "source": []
  },
  {
   "cell_type": "code",
   "execution_count": null,
   "metadata": {},
   "outputs": [],
   "source": []
  }
 ],
 "metadata": {
  "kernelspec": {
   "display_name": "venv",
   "language": "python",
   "name": "python3"
  },
  "language_info": {
   "codemirror_mode": {
    "name": "ipython",
    "version": 3
   },
   "file_extension": ".py",
   "mimetype": "text/x-python",
   "name": "python",
   "nbconvert_exporter": "python",
   "pygments_lexer": "ipython3",
   "version": "3.10.10"
  }
 },
 "nbformat": 4,
 "nbformat_minor": 2
}
